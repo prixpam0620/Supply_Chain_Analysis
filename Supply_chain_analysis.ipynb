{
 "cells": [
  {
   "cell_type": "code",
   "execution_count": 1,
   "id": "2537526b-81c7-4a29-a4b4-6113c2ac33a9",
   "metadata": {
    "tags": []
   },
   "outputs": [],
   "source": [
    "import pandas as pd\n",
    "import numpy as np\n",
    "import seaborn as sns\n",
    "import matplotlib.pyplot as plt"
   ]
  },
  {
   "cell_type": "code",
   "execution_count": 2,
   "id": "666353ae-b387-4df6-ad9d-551e0b5966b1",
   "metadata": {
    "tags": []
   },
   "outputs": [],
   "source": [
    "data= pd.read_csv('/Users/priyankamishrapandey/Downloads/supply_chain_data.csv')"
   ]
  },
  {
   "cell_type": "markdown",
   "id": "688e3b8b-d02c-459b-a7cd-03593a80c3b6",
   "metadata": {},
   "source": [
    "# understanding dataset by displaying its first 5 rows"
   ]
  },
  {
   "cell_type": "code",
   "execution_count": 3,
   "id": "8b726314-86a2-4625-bfe6-8f268be9db48",
   "metadata": {
    "tags": []
   },
   "outputs": [
    {
     "data": {
      "text/html": [
       "<div>\n",
       "<style scoped>\n",
       "    .dataframe tbody tr th:only-of-type {\n",
       "        vertical-align: middle;\n",
       "    }\n",
       "\n",
       "    .dataframe tbody tr th {\n",
       "        vertical-align: top;\n",
       "    }\n",
       "\n",
       "    .dataframe thead th {\n",
       "        text-align: right;\n",
       "    }\n",
       "</style>\n",
       "<table border=\"1\" class=\"dataframe\">\n",
       "  <thead>\n",
       "    <tr style=\"text-align: right;\">\n",
       "      <th></th>\n",
       "      <th>Product type</th>\n",
       "      <th>SKU</th>\n",
       "      <th>Price</th>\n",
       "      <th>Availability</th>\n",
       "      <th>Number of products sold</th>\n",
       "      <th>Revenue generated</th>\n",
       "      <th>Customer demographics</th>\n",
       "      <th>Stock levels</th>\n",
       "      <th>Lead times</th>\n",
       "      <th>Order quantities</th>\n",
       "      <th>...</th>\n",
       "      <th>Location</th>\n",
       "      <th>Lead time</th>\n",
       "      <th>Production volumes</th>\n",
       "      <th>Manufacturing lead time</th>\n",
       "      <th>Manufacturing costs</th>\n",
       "      <th>Inspection results</th>\n",
       "      <th>Defect rates</th>\n",
       "      <th>Transportation modes</th>\n",
       "      <th>Routes</th>\n",
       "      <th>Costs</th>\n",
       "    </tr>\n",
       "  </thead>\n",
       "  <tbody>\n",
       "    <tr>\n",
       "      <th>0</th>\n",
       "      <td>haircare</td>\n",
       "      <td>SKU0</td>\n",
       "      <td>69.808006</td>\n",
       "      <td>55</td>\n",
       "      <td>802</td>\n",
       "      <td>8661.996792</td>\n",
       "      <td>Non-binary</td>\n",
       "      <td>58</td>\n",
       "      <td>7</td>\n",
       "      <td>96</td>\n",
       "      <td>...</td>\n",
       "      <td>Mumbai</td>\n",
       "      <td>29</td>\n",
       "      <td>215</td>\n",
       "      <td>29</td>\n",
       "      <td>46.279879</td>\n",
       "      <td>Pending</td>\n",
       "      <td>0.226410</td>\n",
       "      <td>Road</td>\n",
       "      <td>Route B</td>\n",
       "      <td>187.752075</td>\n",
       "    </tr>\n",
       "    <tr>\n",
       "      <th>1</th>\n",
       "      <td>skincare</td>\n",
       "      <td>SKU1</td>\n",
       "      <td>14.843523</td>\n",
       "      <td>95</td>\n",
       "      <td>736</td>\n",
       "      <td>7460.900065</td>\n",
       "      <td>Female</td>\n",
       "      <td>53</td>\n",
       "      <td>30</td>\n",
       "      <td>37</td>\n",
       "      <td>...</td>\n",
       "      <td>Mumbai</td>\n",
       "      <td>23</td>\n",
       "      <td>517</td>\n",
       "      <td>30</td>\n",
       "      <td>33.616769</td>\n",
       "      <td>Pending</td>\n",
       "      <td>4.854068</td>\n",
       "      <td>Road</td>\n",
       "      <td>Route B</td>\n",
       "      <td>503.065579</td>\n",
       "    </tr>\n",
       "    <tr>\n",
       "      <th>2</th>\n",
       "      <td>haircare</td>\n",
       "      <td>SKU2</td>\n",
       "      <td>11.319683</td>\n",
       "      <td>34</td>\n",
       "      <td>8</td>\n",
       "      <td>9577.749626</td>\n",
       "      <td>Unknown</td>\n",
       "      <td>1</td>\n",
       "      <td>10</td>\n",
       "      <td>88</td>\n",
       "      <td>...</td>\n",
       "      <td>Mumbai</td>\n",
       "      <td>12</td>\n",
       "      <td>971</td>\n",
       "      <td>27</td>\n",
       "      <td>30.688019</td>\n",
       "      <td>Pending</td>\n",
       "      <td>4.580593</td>\n",
       "      <td>Air</td>\n",
       "      <td>Route C</td>\n",
       "      <td>141.920282</td>\n",
       "    </tr>\n",
       "    <tr>\n",
       "      <th>3</th>\n",
       "      <td>skincare</td>\n",
       "      <td>SKU3</td>\n",
       "      <td>61.163343</td>\n",
       "      <td>68</td>\n",
       "      <td>83</td>\n",
       "      <td>7766.836426</td>\n",
       "      <td>Non-binary</td>\n",
       "      <td>23</td>\n",
       "      <td>13</td>\n",
       "      <td>59</td>\n",
       "      <td>...</td>\n",
       "      <td>Kolkata</td>\n",
       "      <td>24</td>\n",
       "      <td>937</td>\n",
       "      <td>18</td>\n",
       "      <td>35.624741</td>\n",
       "      <td>Fail</td>\n",
       "      <td>4.746649</td>\n",
       "      <td>Rail</td>\n",
       "      <td>Route A</td>\n",
       "      <td>254.776159</td>\n",
       "    </tr>\n",
       "    <tr>\n",
       "      <th>4</th>\n",
       "      <td>skincare</td>\n",
       "      <td>SKU4</td>\n",
       "      <td>4.805496</td>\n",
       "      <td>26</td>\n",
       "      <td>871</td>\n",
       "      <td>2686.505152</td>\n",
       "      <td>Non-binary</td>\n",
       "      <td>5</td>\n",
       "      <td>3</td>\n",
       "      <td>56</td>\n",
       "      <td>...</td>\n",
       "      <td>Delhi</td>\n",
       "      <td>5</td>\n",
       "      <td>414</td>\n",
       "      <td>3</td>\n",
       "      <td>92.065161</td>\n",
       "      <td>Fail</td>\n",
       "      <td>3.145580</td>\n",
       "      <td>Air</td>\n",
       "      <td>Route A</td>\n",
       "      <td>923.440632</td>\n",
       "    </tr>\n",
       "  </tbody>\n",
       "</table>\n",
       "<p>5 rows × 24 columns</p>\n",
       "</div>"
      ],
      "text/plain": [
       "  Product type   SKU      Price  Availability  Number of products sold  \\\n",
       "0     haircare  SKU0  69.808006            55                      802   \n",
       "1     skincare  SKU1  14.843523            95                      736   \n",
       "2     haircare  SKU2  11.319683            34                        8   \n",
       "3     skincare  SKU3  61.163343            68                       83   \n",
       "4     skincare  SKU4   4.805496            26                      871   \n",
       "\n",
       "   Revenue generated Customer demographics  Stock levels  Lead times  \\\n",
       "0        8661.996792            Non-binary            58           7   \n",
       "1        7460.900065                Female            53          30   \n",
       "2        9577.749626               Unknown             1          10   \n",
       "3        7766.836426            Non-binary            23          13   \n",
       "4        2686.505152            Non-binary             5           3   \n",
       "\n",
       "   Order quantities  ...  Location Lead time  Production volumes  \\\n",
       "0                96  ...    Mumbai        29                 215   \n",
       "1                37  ...    Mumbai        23                 517   \n",
       "2                88  ...    Mumbai        12                 971   \n",
       "3                59  ...   Kolkata        24                 937   \n",
       "4                56  ...     Delhi         5                 414   \n",
       "\n",
       "  Manufacturing lead time Manufacturing costs  Inspection results  \\\n",
       "0                      29           46.279879             Pending   \n",
       "1                      30           33.616769             Pending   \n",
       "2                      27           30.688019             Pending   \n",
       "3                      18           35.624741                Fail   \n",
       "4                       3           92.065161                Fail   \n",
       "\n",
       "   Defect rates  Transportation modes   Routes       Costs  \n",
       "0      0.226410                  Road  Route B  187.752075  \n",
       "1      4.854068                  Road  Route B  503.065579  \n",
       "2      4.580593                   Air  Route C  141.920282  \n",
       "3      4.746649                  Rail  Route A  254.776159  \n",
       "4      3.145580                   Air  Route A  923.440632  \n",
       "\n",
       "[5 rows x 24 columns]"
      ]
     },
     "execution_count": 3,
     "metadata": {},
     "output_type": "execute_result"
    }
   ],
   "source": [
    "data.head()"
   ]
  },
  {
   "cell_type": "code",
   "execution_count": 4,
   "id": "37295793-c85f-442b-8b51-30aef9ef7bfe",
   "metadata": {
    "tags": []
   },
   "outputs": [
    {
     "data": {
      "text/html": [
       "<div>\n",
       "<style scoped>\n",
       "    .dataframe tbody tr th:only-of-type {\n",
       "        vertical-align: middle;\n",
       "    }\n",
       "\n",
       "    .dataframe tbody tr th {\n",
       "        vertical-align: top;\n",
       "    }\n",
       "\n",
       "    .dataframe thead th {\n",
       "        text-align: right;\n",
       "    }\n",
       "</style>\n",
       "<table border=\"1\" class=\"dataframe\">\n",
       "  <thead>\n",
       "    <tr style=\"text-align: right;\">\n",
       "      <th></th>\n",
       "      <th>Product type</th>\n",
       "      <th>SKU</th>\n",
       "      <th>Price</th>\n",
       "      <th>Availability</th>\n",
       "      <th>Number of products sold</th>\n",
       "      <th>Revenue generated</th>\n",
       "      <th>Customer demographics</th>\n",
       "      <th>Stock levels</th>\n",
       "      <th>Lead times</th>\n",
       "      <th>Order quantities</th>\n",
       "      <th>...</th>\n",
       "      <th>Location</th>\n",
       "      <th>Lead time</th>\n",
       "      <th>Production volumes</th>\n",
       "      <th>Manufacturing lead time</th>\n",
       "      <th>Manufacturing costs</th>\n",
       "      <th>Inspection results</th>\n",
       "      <th>Defect rates</th>\n",
       "      <th>Transportation modes</th>\n",
       "      <th>Routes</th>\n",
       "      <th>Costs</th>\n",
       "    </tr>\n",
       "  </thead>\n",
       "  <tbody>\n",
       "    <tr>\n",
       "      <th>95</th>\n",
       "      <td>haircare</td>\n",
       "      <td>SKU95</td>\n",
       "      <td>77.903927</td>\n",
       "      <td>65</td>\n",
       "      <td>672</td>\n",
       "      <td>7386.363944</td>\n",
       "      <td>Unknown</td>\n",
       "      <td>15</td>\n",
       "      <td>14</td>\n",
       "      <td>26</td>\n",
       "      <td>...</td>\n",
       "      <td>Mumbai</td>\n",
       "      <td>18</td>\n",
       "      <td>450</td>\n",
       "      <td>26</td>\n",
       "      <td>58.890686</td>\n",
       "      <td>Pending</td>\n",
       "      <td>1.210882</td>\n",
       "      <td>Air</td>\n",
       "      <td>Route A</td>\n",
       "      <td>778.864241</td>\n",
       "    </tr>\n",
       "    <tr>\n",
       "      <th>96</th>\n",
       "      <td>cosmetics</td>\n",
       "      <td>SKU96</td>\n",
       "      <td>24.423131</td>\n",
       "      <td>29</td>\n",
       "      <td>324</td>\n",
       "      <td>7698.424766</td>\n",
       "      <td>Non-binary</td>\n",
       "      <td>67</td>\n",
       "      <td>2</td>\n",
       "      <td>32</td>\n",
       "      <td>...</td>\n",
       "      <td>Mumbai</td>\n",
       "      <td>28</td>\n",
       "      <td>648</td>\n",
       "      <td>28</td>\n",
       "      <td>17.803756</td>\n",
       "      <td>Pending</td>\n",
       "      <td>3.872048</td>\n",
       "      <td>Road</td>\n",
       "      <td>Route A</td>\n",
       "      <td>188.742141</td>\n",
       "    </tr>\n",
       "    <tr>\n",
       "      <th>97</th>\n",
       "      <td>haircare</td>\n",
       "      <td>SKU97</td>\n",
       "      <td>3.526111</td>\n",
       "      <td>56</td>\n",
       "      <td>62</td>\n",
       "      <td>4370.916580</td>\n",
       "      <td>Male</td>\n",
       "      <td>46</td>\n",
       "      <td>19</td>\n",
       "      <td>4</td>\n",
       "      <td>...</td>\n",
       "      <td>Mumbai</td>\n",
       "      <td>10</td>\n",
       "      <td>535</td>\n",
       "      <td>13</td>\n",
       "      <td>65.765156</td>\n",
       "      <td>Fail</td>\n",
       "      <td>3.376238</td>\n",
       "      <td>Road</td>\n",
       "      <td>Route A</td>\n",
       "      <td>540.132423</td>\n",
       "    </tr>\n",
       "    <tr>\n",
       "      <th>98</th>\n",
       "      <td>skincare</td>\n",
       "      <td>SKU98</td>\n",
       "      <td>19.754605</td>\n",
       "      <td>43</td>\n",
       "      <td>913</td>\n",
       "      <td>8525.952560</td>\n",
       "      <td>Female</td>\n",
       "      <td>53</td>\n",
       "      <td>1</td>\n",
       "      <td>27</td>\n",
       "      <td>...</td>\n",
       "      <td>Chennai</td>\n",
       "      <td>28</td>\n",
       "      <td>581</td>\n",
       "      <td>9</td>\n",
       "      <td>5.604691</td>\n",
       "      <td>Pending</td>\n",
       "      <td>2.908122</td>\n",
       "      <td>Rail</td>\n",
       "      <td>Route A</td>\n",
       "      <td>882.198864</td>\n",
       "    </tr>\n",
       "    <tr>\n",
       "      <th>99</th>\n",
       "      <td>haircare</td>\n",
       "      <td>SKU99</td>\n",
       "      <td>68.517833</td>\n",
       "      <td>17</td>\n",
       "      <td>627</td>\n",
       "      <td>9185.185829</td>\n",
       "      <td>Unknown</td>\n",
       "      <td>55</td>\n",
       "      <td>8</td>\n",
       "      <td>59</td>\n",
       "      <td>...</td>\n",
       "      <td>Chennai</td>\n",
       "      <td>29</td>\n",
       "      <td>921</td>\n",
       "      <td>2</td>\n",
       "      <td>38.072899</td>\n",
       "      <td>Fail</td>\n",
       "      <td>0.346027</td>\n",
       "      <td>Rail</td>\n",
       "      <td>Route B</td>\n",
       "      <td>210.743009</td>\n",
       "    </tr>\n",
       "  </tbody>\n",
       "</table>\n",
       "<p>5 rows × 24 columns</p>\n",
       "</div>"
      ],
      "text/plain": [
       "   Product type    SKU      Price  Availability  Number of products sold  \\\n",
       "95     haircare  SKU95  77.903927            65                      672   \n",
       "96    cosmetics  SKU96  24.423131            29                      324   \n",
       "97     haircare  SKU97   3.526111            56                       62   \n",
       "98     skincare  SKU98  19.754605            43                      913   \n",
       "99     haircare  SKU99  68.517833            17                      627   \n",
       "\n",
       "    Revenue generated Customer demographics  Stock levels  Lead times  \\\n",
       "95        7386.363944               Unknown            15          14   \n",
       "96        7698.424766            Non-binary            67           2   \n",
       "97        4370.916580                  Male            46          19   \n",
       "98        8525.952560                Female            53           1   \n",
       "99        9185.185829               Unknown            55           8   \n",
       "\n",
       "    Order quantities  ...  Location Lead time  Production volumes  \\\n",
       "95                26  ...    Mumbai        18                 450   \n",
       "96                32  ...    Mumbai        28                 648   \n",
       "97                 4  ...    Mumbai        10                 535   \n",
       "98                27  ...   Chennai        28                 581   \n",
       "99                59  ...   Chennai        29                 921   \n",
       "\n",
       "   Manufacturing lead time Manufacturing costs  Inspection results  \\\n",
       "95                      26           58.890686             Pending   \n",
       "96                      28           17.803756             Pending   \n",
       "97                      13           65.765156                Fail   \n",
       "98                       9            5.604691             Pending   \n",
       "99                       2           38.072899                Fail   \n",
       "\n",
       "    Defect rates  Transportation modes   Routes       Costs  \n",
       "95      1.210882                   Air  Route A  778.864241  \n",
       "96      3.872048                  Road  Route A  188.742141  \n",
       "97      3.376238                  Road  Route A  540.132423  \n",
       "98      2.908122                  Rail  Route A  882.198864  \n",
       "99      0.346027                  Rail  Route B  210.743009  \n",
       "\n",
       "[5 rows x 24 columns]"
      ]
     },
     "execution_count": 4,
     "metadata": {},
     "output_type": "execute_result"
    }
   ],
   "source": [
    "data.tail()"
   ]
  },
  {
   "cell_type": "markdown",
   "id": "b29d11e0-aa0c-43be-833e-06ece452689a",
   "metadata": {},
   "source": [
    "# printing data statistics"
   ]
  },
  {
   "cell_type": "code",
   "execution_count": 5,
   "id": "a1ce3852-6a6c-411c-ab99-93d5f8591e3f",
   "metadata": {
    "tags": []
   },
   "outputs": [
    {
     "data": {
      "text/html": [
       "<div>\n",
       "<style scoped>\n",
       "    .dataframe tbody tr th:only-of-type {\n",
       "        vertical-align: middle;\n",
       "    }\n",
       "\n",
       "    .dataframe tbody tr th {\n",
       "        vertical-align: top;\n",
       "    }\n",
       "\n",
       "    .dataframe thead th {\n",
       "        text-align: right;\n",
       "    }\n",
       "</style>\n",
       "<table border=\"1\" class=\"dataframe\">\n",
       "  <thead>\n",
       "    <tr style=\"text-align: right;\">\n",
       "      <th></th>\n",
       "      <th>Price</th>\n",
       "      <th>Availability</th>\n",
       "      <th>Number of products sold</th>\n",
       "      <th>Revenue generated</th>\n",
       "      <th>Stock levels</th>\n",
       "      <th>Lead times</th>\n",
       "      <th>Order quantities</th>\n",
       "      <th>Shipping times</th>\n",
       "      <th>Shipping costs</th>\n",
       "      <th>Lead time</th>\n",
       "      <th>Production volumes</th>\n",
       "      <th>Manufacturing lead time</th>\n",
       "      <th>Manufacturing costs</th>\n",
       "      <th>Defect rates</th>\n",
       "      <th>Costs</th>\n",
       "    </tr>\n",
       "  </thead>\n",
       "  <tbody>\n",
       "    <tr>\n",
       "      <th>count</th>\n",
       "      <td>100.000000</td>\n",
       "      <td>100.000000</td>\n",
       "      <td>100.000000</td>\n",
       "      <td>100.000000</td>\n",
       "      <td>100.000000</td>\n",
       "      <td>100.000000</td>\n",
       "      <td>100.000000</td>\n",
       "      <td>100.000000</td>\n",
       "      <td>100.000000</td>\n",
       "      <td>100.000000</td>\n",
       "      <td>100.000000</td>\n",
       "      <td>100.00000</td>\n",
       "      <td>100.000000</td>\n",
       "      <td>100.000000</td>\n",
       "      <td>100.000000</td>\n",
       "    </tr>\n",
       "    <tr>\n",
       "      <th>mean</th>\n",
       "      <td>49.462461</td>\n",
       "      <td>48.400000</td>\n",
       "      <td>460.990000</td>\n",
       "      <td>5776.048187</td>\n",
       "      <td>47.770000</td>\n",
       "      <td>15.960000</td>\n",
       "      <td>49.220000</td>\n",
       "      <td>5.750000</td>\n",
       "      <td>5.548149</td>\n",
       "      <td>17.080000</td>\n",
       "      <td>567.840000</td>\n",
       "      <td>14.77000</td>\n",
       "      <td>47.266693</td>\n",
       "      <td>2.277158</td>\n",
       "      <td>529.245782</td>\n",
       "    </tr>\n",
       "    <tr>\n",
       "      <th>std</th>\n",
       "      <td>31.168193</td>\n",
       "      <td>30.743317</td>\n",
       "      <td>303.780074</td>\n",
       "      <td>2732.841744</td>\n",
       "      <td>31.369372</td>\n",
       "      <td>8.785801</td>\n",
       "      <td>26.784429</td>\n",
       "      <td>2.724283</td>\n",
       "      <td>2.651376</td>\n",
       "      <td>8.846251</td>\n",
       "      <td>263.046861</td>\n",
       "      <td>8.91243</td>\n",
       "      <td>28.982841</td>\n",
       "      <td>1.461366</td>\n",
       "      <td>258.301696</td>\n",
       "    </tr>\n",
       "    <tr>\n",
       "      <th>min</th>\n",
       "      <td>1.699976</td>\n",
       "      <td>1.000000</td>\n",
       "      <td>8.000000</td>\n",
       "      <td>1061.618523</td>\n",
       "      <td>0.000000</td>\n",
       "      <td>1.000000</td>\n",
       "      <td>1.000000</td>\n",
       "      <td>1.000000</td>\n",
       "      <td>1.013487</td>\n",
       "      <td>1.000000</td>\n",
       "      <td>104.000000</td>\n",
       "      <td>1.00000</td>\n",
       "      <td>1.085069</td>\n",
       "      <td>0.018608</td>\n",
       "      <td>103.916248</td>\n",
       "    </tr>\n",
       "    <tr>\n",
       "      <th>25%</th>\n",
       "      <td>19.597823</td>\n",
       "      <td>22.750000</td>\n",
       "      <td>184.250000</td>\n",
       "      <td>2812.847151</td>\n",
       "      <td>16.750000</td>\n",
       "      <td>8.000000</td>\n",
       "      <td>26.000000</td>\n",
       "      <td>3.750000</td>\n",
       "      <td>3.540248</td>\n",
       "      <td>10.000000</td>\n",
       "      <td>352.000000</td>\n",
       "      <td>7.00000</td>\n",
       "      <td>22.983299</td>\n",
       "      <td>1.009650</td>\n",
       "      <td>318.778455</td>\n",
       "    </tr>\n",
       "    <tr>\n",
       "      <th>50%</th>\n",
       "      <td>51.239831</td>\n",
       "      <td>43.500000</td>\n",
       "      <td>392.500000</td>\n",
       "      <td>6006.352023</td>\n",
       "      <td>47.500000</td>\n",
       "      <td>17.000000</td>\n",
       "      <td>52.000000</td>\n",
       "      <td>6.000000</td>\n",
       "      <td>5.320534</td>\n",
       "      <td>18.000000</td>\n",
       "      <td>568.500000</td>\n",
       "      <td>14.00000</td>\n",
       "      <td>45.905622</td>\n",
       "      <td>2.141863</td>\n",
       "      <td>520.430444</td>\n",
       "    </tr>\n",
       "    <tr>\n",
       "      <th>75%</th>\n",
       "      <td>77.198228</td>\n",
       "      <td>75.000000</td>\n",
       "      <td>704.250000</td>\n",
       "      <td>8253.976921</td>\n",
       "      <td>73.000000</td>\n",
       "      <td>24.000000</td>\n",
       "      <td>71.250000</td>\n",
       "      <td>8.000000</td>\n",
       "      <td>7.601695</td>\n",
       "      <td>25.000000</td>\n",
       "      <td>797.000000</td>\n",
       "      <td>23.00000</td>\n",
       "      <td>68.621026</td>\n",
       "      <td>3.563995</td>\n",
       "      <td>763.078231</td>\n",
       "    </tr>\n",
       "    <tr>\n",
       "      <th>max</th>\n",
       "      <td>99.171329</td>\n",
       "      <td>100.000000</td>\n",
       "      <td>996.000000</td>\n",
       "      <td>9866.465458</td>\n",
       "      <td>100.000000</td>\n",
       "      <td>30.000000</td>\n",
       "      <td>96.000000</td>\n",
       "      <td>10.000000</td>\n",
       "      <td>9.929816</td>\n",
       "      <td>30.000000</td>\n",
       "      <td>985.000000</td>\n",
       "      <td>30.00000</td>\n",
       "      <td>99.466109</td>\n",
       "      <td>4.939255</td>\n",
       "      <td>997.413450</td>\n",
       "    </tr>\n",
       "  </tbody>\n",
       "</table>\n",
       "</div>"
      ],
      "text/plain": [
       "            Price  Availability  Number of products sold  Revenue generated  \\\n",
       "count  100.000000    100.000000               100.000000         100.000000   \n",
       "mean    49.462461     48.400000               460.990000        5776.048187   \n",
       "std     31.168193     30.743317               303.780074        2732.841744   \n",
       "min      1.699976      1.000000                 8.000000        1061.618523   \n",
       "25%     19.597823     22.750000               184.250000        2812.847151   \n",
       "50%     51.239831     43.500000               392.500000        6006.352023   \n",
       "75%     77.198228     75.000000               704.250000        8253.976921   \n",
       "max     99.171329    100.000000               996.000000        9866.465458   \n",
       "\n",
       "       Stock levels  Lead times  Order quantities  Shipping times  \\\n",
       "count    100.000000  100.000000        100.000000      100.000000   \n",
       "mean      47.770000   15.960000         49.220000        5.750000   \n",
       "std       31.369372    8.785801         26.784429        2.724283   \n",
       "min        0.000000    1.000000          1.000000        1.000000   \n",
       "25%       16.750000    8.000000         26.000000        3.750000   \n",
       "50%       47.500000   17.000000         52.000000        6.000000   \n",
       "75%       73.000000   24.000000         71.250000        8.000000   \n",
       "max      100.000000   30.000000         96.000000       10.000000   \n",
       "\n",
       "       Shipping costs   Lead time  Production volumes  \\\n",
       "count      100.000000  100.000000          100.000000   \n",
       "mean         5.548149   17.080000          567.840000   \n",
       "std          2.651376    8.846251          263.046861   \n",
       "min          1.013487    1.000000          104.000000   \n",
       "25%          3.540248   10.000000          352.000000   \n",
       "50%          5.320534   18.000000          568.500000   \n",
       "75%          7.601695   25.000000          797.000000   \n",
       "max          9.929816   30.000000          985.000000   \n",
       "\n",
       "       Manufacturing lead time  Manufacturing costs  Defect rates       Costs  \n",
       "count                100.00000           100.000000    100.000000  100.000000  \n",
       "mean                  14.77000            47.266693      2.277158  529.245782  \n",
       "std                    8.91243            28.982841      1.461366  258.301696  \n",
       "min                    1.00000             1.085069      0.018608  103.916248  \n",
       "25%                    7.00000            22.983299      1.009650  318.778455  \n",
       "50%                   14.00000            45.905622      2.141863  520.430444  \n",
       "75%                   23.00000            68.621026      3.563995  763.078231  \n",
       "max                   30.00000            99.466109      4.939255  997.413450  "
      ]
     },
     "execution_count": 5,
     "metadata": {},
     "output_type": "execute_result"
    }
   ],
   "source": [
    "data.describe()"
   ]
  },
  {
   "cell_type": "markdown",
   "id": "6cfdc0aa-66e2-4bdb-88c7-4da69dfcd277",
   "metadata": {},
   "source": [
    "# data has no null values"
   ]
  },
  {
   "cell_type": "code",
   "execution_count": 6,
   "id": "2764f64e-efd4-4148-8594-1927f979220a",
   "metadata": {
    "tags": []
   },
   "outputs": [
    {
     "data": {
      "text/plain": [
       "Product type               0\n",
       "SKU                        0\n",
       "Price                      0\n",
       "Availability               0\n",
       "Number of products sold    0\n",
       "Revenue generated          0\n",
       "Customer demographics      0\n",
       "Stock levels               0\n",
       "Lead times                 0\n",
       "Order quantities           0\n",
       "Shipping times             0\n",
       "Shipping carriers          0\n",
       "Shipping costs             0\n",
       "Supplier name              0\n",
       "Location                   0\n",
       "Lead time                  0\n",
       "Production volumes         0\n",
       "Manufacturing lead time    0\n",
       "Manufacturing costs        0\n",
       "Inspection results         0\n",
       "Defect rates               0\n",
       "Transportation modes       0\n",
       "Routes                     0\n",
       "Costs                      0\n",
       "dtype: int64"
      ]
     },
     "execution_count": 6,
     "metadata": {},
     "output_type": "execute_result"
    }
   ],
   "source": [
    "data.isnull().sum()"
   ]
  },
  {
   "cell_type": "markdown",
   "id": "c8298bf8-f954-4028-9f48-802e67225cb3",
   "metadata": {
    "tags": []
   },
   "source": [
    "# The following codes are to understand the datatype, shape and len i.e number of rows and columns of the dataset."
   ]
  },
  {
   "cell_type": "code",
   "execution_count": 7,
   "id": "e7d8892b-7e23-4abd-9317-5eb7198dff7c",
   "metadata": {
    "tags": []
   },
   "outputs": [
    {
     "data": {
      "text/plain": [
       "Product type                object\n",
       "SKU                         object\n",
       "Price                      float64\n",
       "Availability                 int64\n",
       "Number of products sold      int64\n",
       "Revenue generated          float64\n",
       "Customer demographics       object\n",
       "Stock levels                 int64\n",
       "Lead times                   int64\n",
       "Order quantities             int64\n",
       "Shipping times               int64\n",
       "Shipping carriers           object\n",
       "Shipping costs             float64\n",
       "Supplier name               object\n",
       "Location                    object\n",
       "Lead time                    int64\n",
       "Production volumes           int64\n",
       "Manufacturing lead time      int64\n",
       "Manufacturing costs        float64\n",
       "Inspection results          object\n",
       "Defect rates               float64\n",
       "Transportation modes        object\n",
       "Routes                      object\n",
       "Costs                      float64\n",
       "dtype: object"
      ]
     },
     "execution_count": 7,
     "metadata": {},
     "output_type": "execute_result"
    }
   ],
   "source": [
    "data.dtypes"
   ]
  },
  {
   "cell_type": "code",
   "execution_count": 8,
   "id": "e0daa221-74aa-410a-8f37-d8c7c743a196",
   "metadata": {
    "tags": []
   },
   "outputs": [
    {
     "data": {
      "text/plain": [
       "(100, 24)"
      ]
     },
     "execution_count": 8,
     "metadata": {},
     "output_type": "execute_result"
    }
   ],
   "source": [
    "data.shape"
   ]
  },
  {
   "cell_type": "markdown",
   "id": "0dcd4277-067c-48ec-bf42-a770cee812a4",
   "metadata": {
    "tags": []
   },
   "source": [
    "# grouping data based on their product name and sale"
   ]
  },
  {
   "cell_type": "code",
   "execution_count": 9,
   "id": "442f7413-ab52-46b7-92b1-8ceae56d97cc",
   "metadata": {
    "tags": []
   },
   "outputs": [
    {
     "data": {
      "text/plain": [
       "100"
      ]
     },
     "execution_count": 9,
     "metadata": {},
     "output_type": "execute_result"
    }
   ],
   "source": [
    "len(data)"
   ]
  },
  {
   "cell_type": "code",
   "execution_count": 10,
   "id": "3ebc665b-d4cf-416b-ae0b-aeb09b34d0bf",
   "metadata": {
    "tags": []
   },
   "outputs": [
    {
     "data": {
      "text/plain": [
       "Index(['Product type', 'SKU', 'Price', 'Availability',\n",
       "       'Number of products sold', 'Revenue generated', 'Customer demographics',\n",
       "       'Stock levels', 'Lead times', 'Order quantities', 'Shipping times',\n",
       "       'Shipping carriers', 'Shipping costs', 'Supplier name', 'Location',\n",
       "       'Lead time', 'Production volumes', 'Manufacturing lead time',\n",
       "       'Manufacturing costs', 'Inspection results', 'Defect rates',\n",
       "       'Transportation modes', 'Routes', 'Costs'],\n",
       "      dtype='object')"
      ]
     },
     "execution_count": 10,
     "metadata": {},
     "output_type": "execute_result"
    }
   ],
   "source": [
    "data.columns"
   ]
  },
  {
   "cell_type": "markdown",
   "id": "9a3e061a-b4df-4a1d-ac15-f9481dcd1d62",
   "metadata": {},
   "source": [
    "# EDA i.e Exploratory data analysis"
   ]
  },
  {
   "cell_type": "code",
   "execution_count": 11,
   "id": "12cebd0c-4d99-41c2-b155-6f316163f4ed",
   "metadata": {
    "tags": []
   },
   "outputs": [
    {
     "name": "stdout",
     "output_type": "stream",
     "text": [
      "Product type\n",
      "skincare     20731\n",
      "haircare     13611\n",
      "cosmetics    11757\n",
      "Name: Number of products sold, dtype: int64\n"
     ]
    }
   ],
   "source": [
    "product_types_sales = data.groupby('Product type')['Number of products sold'].sum().sort_values(ascending=False).head(10)\n",
    "print(product_types_sales )"
   ]
  },
  {
   "cell_type": "markdown",
   "id": "cec97716-3a12-4978-874a-47aa00ac17f0",
   "metadata": {
    "tags": []
   },
   "source": [
    "# highest selling product"
   ]
  },
  {
   "cell_type": "code",
   "execution_count": 12,
   "id": "366debab-f57b-4b86-a07e-300f16e9a41f",
   "metadata": {
    "tags": []
   },
   "outputs": [
    {
     "data": {
      "image/png": "[encoded data removed]",
      "text/plain": [
       "<Figure size 800x500 with 1 Axes>"
      ]
     },
     "metadata": {},
     "output_type": "display_data"
    }
   ],
   "source": [
    "plt.figure(figsize=(8,5))\n",
    "sns.barplot( x= product_types_sales.values, y= product_types_sales.index,palette= 'pastel' )\n",
    "plt.title('Total Sales by product type')\n",
    "plt.xlabel('product_types_sales')\n",
    "plt.ylabel('Number of items sold')\n",
    "plt.show()"
   ]
  },
  {
   "cell_type": "markdown",
   "id": "ed81f51f-757f-4ce2-8232-034a3fdff142",
   "metadata": {},
   "source": [
    "##### From the above barplot, we can see that skincare products are teh highest in demand followed by haircare and cosmetics.\n",
    "##### This could be because of betterproduct quality, product price, marketing or promotion strategists. "
   ]
  },
  {
   "cell_type": "markdown",
   "id": "ae3a6d18-6c91-493b-87c4-f9b48e1b9c56",
   "metadata": {
    "tags": []
   },
   "source": [
    "# Profitablity"
   ]
  },
  {
   "cell_type": "code",
   "execution_count": 13,
   "id": "ad196b0e-3dc3-44f4-9c7c-e7ee20308673",
   "metadata": {
    "tags": []
   },
   "outputs": [
    {
     "name": "stdout",
     "output_type": "stream",
     "text": [
      "Product type\n",
      "skincare     241628.162133\n",
      "haircare     174455.390605\n",
      "cosmetics    161521.265999\n",
      "Name: Revenue generated, dtype: float64\n"
     ]
    }
   ],
   "source": [
    "profit = data.groupby('Product type')['Revenue generated'].sum().sort_values( ascending=False).head(10)\n",
    "print (profit)"
   ]
  },
  {
   "cell_type": "code",
   "execution_count": 14,
   "id": "c5f6b595-855a-451a-9722-cae70386a1fc",
   "metadata": {
    "tags": []
   },
   "outputs": [
    {
     "data": {
      "image/png": "[encoded data removed]",
      "text/plain": [
       "<Figure size 1000x400 with 1 Axes>"
      ]
     },
     "metadata": {},
     "output_type": "display_data"
    }
   ],
   "source": [
    "plt.figure(figsize= (10,4))\n",
    "sns.barplot(x= profit.values, y=profit.index, palette= 'pastel')\n",
    "plt.title (' Profitibility')\n",
    "plt.xlabel('Product Type')\n",
    "plt.ylabel('Revenue generated')\n",
    "plt.show()"
   ]
  },
  {
   "cell_type": "markdown",
   "id": "f9c8c14c-6ed2-4afc-bcc2-9244cbaeaf7f",
   "metadata": {},
   "source": [
    "# Skincare products are bringing more profit than haircare and cosmetics. "
   ]
  },
  {
   "cell_type": "markdown",
   "id": "3782d1fe-1852-4a69-bcfb-984aec4cbcdb",
   "metadata": {},
   "source": [
    "#### Based on the revenue analysis, Skincare is the top-performing product type, generating the highest revenue at ₹241,628.16, followed by Haircare and Cosmetics. This indicates a strong market demand for skincare products, and the company may benefit from:\n",
    "##### 1. Focusing more inventory and marketing efforts on skincare to maximize profits.\n",
    "##### 2. Exploring cross-selling opportunities by bundling skincare with complementary haircare or cosmetic products.\n",
    "##### 3. Reviewing pricing or promotional strategies for haircare and cosmetics to boost their revenue potential."
   ]
  },
  {
   "cell_type": "markdown",
   "id": "0009fca8-5969-4ce3-9e5d-361bd9d9e698",
   "metadata": {},
   "source": [
    "# Understanding which region and demography contributes more to the comapany's revenue."
   ]
  },
  {
   "cell_type": "code",
   "execution_count": 15,
   "id": "ca6ecc62",
   "metadata": {},
   "outputs": [
    {
     "name": "stdout",
     "output_type": "stream",
     "text": [
      "Customer demographics  Product type\n",
      "Female                 cosmetics       69548.542197\n",
      "                       haircare        12724.833283\n",
      "                       skincare        79241.113642\n",
      "Male                   cosmetics       21390.965497\n",
      "                       haircare        50599.927309\n",
      "                       skincare        54643.501453\n",
      "Non-binary             cosmetics       26235.481661\n",
      "                       haircare        38971.147085\n",
      "                       skincare        51159.172774\n",
      "Unknown                cosmetics       44346.276645\n",
      "                       haircare        72159.482928\n",
      "                       skincare        56584.374264\n",
      "Name: Revenue generated, dtype: float64\n"
     ]
    }
   ],
   "source": [
    "data_demography0= data.groupby(['Customer demographics','Product type'])['Revenue generated'].sum()\n",
    "print (data_demography0)"
   ]
  },
  {
   "cell_type": "code",
   "execution_count": 16,
   "id": "3f8e5a82-1a3a-4030-be4e-b9fe56d9e013",
   "metadata": {},
   "outputs": [
    {
     "name": "stdout",
     "output_type": "stream",
     "text": [
      "   Customer demographics Product type  Revenue generated\n",
      "0                 Female    cosmetics       69548.542197\n",
      "1                 Female     haircare       12724.833283\n",
      "2                 Female     skincare       79241.113642\n",
      "3                   Male    cosmetics       21390.965497\n",
      "4                   Male     haircare       50599.927309\n",
      "5                   Male     skincare       54643.501453\n",
      "6             Non-binary    cosmetics       26235.481661\n",
      "7             Non-binary     haircare       38971.147085\n",
      "8             Non-binary     skincare       51159.172774\n",
      "9                Unknown    cosmetics       44346.276645\n",
      "10               Unknown     haircare       72159.482928\n",
      "11               Unknown     skincare       56584.374264\n"
     ]
    }
   ],
   "source": [
    "data_demography= data.groupby(['Customer demographics','Product type'])['Revenue generated'].sum().reset_index()\n",
    "print (data_demography)\n"
   ]
  },
  {
   "cell_type": "markdown",
   "id": "27f2be8a",
   "metadata": {},
   "source": [
    "#### BarPlot"
   ]
  },
  {
   "cell_type": "code",
   "execution_count": 17,
   "id": "ad4c5fb1",
   "metadata": {},
   "outputs": [
    {
     "data": {
      "image/png": "[encoded data removed]",
      "text/plain": [
       "<Figure size 1000x800 with 1 Axes>"
      ]
     },
     "metadata": {},
     "output_type": "display_data"
    }
   ],
   "source": [
    "plt.figure(figsize=(10,8))\n",
    "sns.barplot(data= data_demography,\n",
    "            x= 'Customer demographics',\n",
    "            y= 'Revenue generated',\n",
    "            hue='Product type',\n",
    "            palette= 'pastel'\n",
    "           )\n",
    "plt.title('Revenue by demography and product type')\n",
    "plt.xlabel('Customer demography')\n",
    "plt.ylabel('revenue generated')\n",
    "plt.show()"
   ]
  },
  {
   "cell_type": "code",
   "execution_count": 18,
   "id": "9725ef84",
   "metadata": {},
   "outputs": [
    {
     "name": "stdout",
     "output_type": "stream",
     "text": [
      "   Customer demographics Product type  Revenue generated  \\\n",
      "0                 Female    cosmetics       69548.542197   \n",
      "1                 Female     haircare       12724.833283   \n",
      "2                 Female     skincare       79241.113642   \n",
      "3                   Male    cosmetics       21390.965497   \n",
      "4                   Male     haircare       50599.927309   \n",
      "5                   Male     skincare       54643.501453   \n",
      "6             Non-binary    cosmetics       26235.481661   \n",
      "7             Non-binary     haircare       38971.147085   \n",
      "8             Non-binary     skincare       51159.172774   \n",
      "9                Unknown    cosmetics       44346.276645   \n",
      "10               Unknown     haircare       72159.482928   \n",
      "11               Unknown     skincare       56584.374264   \n",
      "\n",
      "    Revenue generated_total_by_demographic  \n",
      "0                            161514.489122  \n",
      "1                            161514.489122  \n",
      "2                            161514.489122  \n",
      "3                            126634.394260  \n",
      "4                            126634.394260  \n",
      "5                            126634.394260  \n",
      "6                            116365.801520  \n",
      "7                            116365.801520  \n",
      "8                            116365.801520  \n",
      "9                            173090.133837  \n",
      "10                           173090.133837  \n",
      "11                           173090.133837  \n"
     ]
    }
   ],
   "source": [
    "demographic_revenue = data.groupby('Customer demographics')['Revenue generated'].sum().reset_index()\n",
    "data_demography =data_demography.merge(demographic_revenue, on='Customer demographics', suffixes=('', '_total_by_demographic'))\n",
    "print(data_demography)\n"
   ]
  },
  {
   "cell_type": "code",
   "execution_count": 19,
   "id": "82a96b70",
   "metadata": {},
   "outputs": [
    {
     "data": {
      "image/png": "[encoded data removed]",
      "text/plain": [
       "<Figure size 1000x800 with 1 Axes>"
      ]
     },
     "metadata": {},
     "output_type": "display_data"
    }
   ],
   "source": [
    "plt.figure(figsize=(10,8))\n",
    "sns.barplot(data= data_demography,\n",
    "            x= 'Customer demographics',\n",
    "            y= 'Revenue generated_total_by_demographic',\n",
    "            palette= 'pastel'\n",
    "           )\n",
    "plt.title('Revenue by demography ')\n",
    "plt.xlabel('Customer demography')\n",
    "plt.ylabel('revenue generated')\n",
    "plt.show()"
   ]
  },
  {
   "cell_type": "markdown",
   "id": "3feeb866",
   "metadata": {},
   "source": [
    "##### Business analysis\n",
    "##### Company/Business Implementation:\n",
    "Targeted Marketing:\n",
    "\n",
    "The company should focus more marketing efforts on the Unknown demographic, as this group is currently the highest revenue contributor. This could include:\n",
    "\n",
    "Creating personalized marketing campaigns targeting this group.\n",
    "\n",
    "Analyzing what products are most appealing to them (e.g., Haircare, Skincare, or Cosmetics) and tailoring promotions accordingly.\n",
    "\n",
    "Understanding the 'Unknown' Demographic:\n",
    "\n",
    "It is crucial to explore what the 'Unknown' demographic actually constitutes. This could include:\n",
    "\n",
    "Looking at potential patterns in age, region, and buying behavior to reduce the uncertainty around this group.\n",
    "\n",
    "The 'Unknown' demographic could represent a specific subset of customers whose details were not captured (e.g., no gender specified, untracked customer segments).\n",
    "\n",
    "Focus on Lucrative Market:\n",
    "\n",
    "Since the Unknown demographic is proving to be lucrative, the company should make it a priority to understand its structure.\n",
    "\n",
    "The more the company can segment and understand this group, the better it can target future campaigns and develop products that resonate with their needs and preferences."
   ]
  },
  {
   "cell_type": "code",
   "execution_count": 27,
   "id": "1d759ed5",
   "metadata": {},
   "outputs": [
    {
     "name": "stdout",
     "output_type": "stream",
     "text": [
      "    Location  Revenue generated\n",
      "0     Mumbai      137755.026877\n",
      "1    Kolkata      137077.551005\n",
      "2    Chennai      119142.815748\n",
      "3  Bangalore      102601.723882\n",
      "4      Delhi       81027.701225\n"
     ]
    }
   ],
   "source": [
    "grouped_location= data.groupby('Location')['Revenue generated'].sum().sort_values(ascending= False).reset_index()\n",
    "print (grouped_location)"
   ]
  },
  {
   "cell_type": "code",
   "execution_count": 28,
   "id": "c300e8ed",
   "metadata": {},
   "outputs": [
    {
     "data": {
      "image/png": "[encoded data removed]",
      "text/plain": [
       "<Figure size 1000x500 with 1 Axes>"
      ]
     },
     "metadata": {},
     "output_type": "display_data"
    }
   ],
   "source": [
    "plt.figure(figsize=(10,5))\n",
    "sns.barplot(data= grouped_location,\n",
    "            x= 'Location',\n",
    "           y= 'Revenue generated',\n",
    "            palette= 'pastel')\n",
    "plt.title('Revenues generated by locations')\n",
    "plt.xlabel('Location')\n",
    "plt.ylabel('Revenue Generated')\n",
    "plt.show()"
   ]
  },
  {
   "cell_type": "markdown",
   "id": "b0f8a3f4",
   "metadata": {},
   "source": [
    "### Business Insight:\n",
    "Mumbai, followed by Kolkata, contributes the highest revenue in comparison to other locations.\n",
    "\n",
    "These two locations represent a key revenue driver for the company, suggesting that there is high demand or customer spending in these regions.\n",
    "\n",
    "Bangalore, Delhi, and Chennai contribute relatively lower revenues, signaling potential areas of opportunity but also suggesting that customer demand is not as strong as in Mumbai and Kolkata.\n",
    "\n",
    "Business Strategy:\n",
    "Increase Revenue in High-Performing Locations:\n",
    "\n",
    "Focus on Mumbai and Kolkata as your main revenue-generating hubs.\n",
    "\n",
    "Bundle products or offer special promotions tailored to the preferences of customers in these locations to boost sales.\n",
    "\n",
    "Consider premium offers or loyalty programs in these regions to increase customer retention and repeat purchases.\n",
    "\n",
    "Marketing Strategies for Other Locations:\n",
    "\n",
    "For Bangalore, Delhi, and Chennai, where the revenue is comparatively lower, invest in targeted marketing campaigns to increase awareness and drive customer engagement.\n",
    "\n",
    "Conduct market research to understand the preferences and needs of customers in these locations, which can help you tailor the marketing messages accordingly.\n",
    "\n",
    "Consider local collaborations or partnerships with influencers in these cities to expand brand reach and attract new customers.\n",
    "\n",
    "Regional Expansion:\n",
    "\n",
    "Leverage the insights from high-performing locations (Mumbai and Kolkata) to create model strategies that can be replicated in other regions.\n",
    "\n",
    "Use data analytics to understand what worked well in these cities (e.g., product bundling, promotions) and adapt it for cities with lower revenues.\n",
    "\n",
    "By focusing on the high-revenue locations and creating tailored strategies for others, the company can optimize its resource allocation and boost overall sales across all regions."
   ]
  },
  {
   "cell_type": "markdown",
   "id": "e598f0b0",
   "metadata": {},
   "source": [
    "## Transporation mode strategy, how to optimize, and which is cost effective"
   ]
  },
  {
   "cell_type": "code",
   "execution_count": 30,
   "id": "46a0b973",
   "metadata": {},
   "outputs": [
    {
     "data": {
      "text/plain": [
       "Index(['Product type', 'SKU', 'Price', 'Availability',\n",
       "       'Number of products sold', 'Revenue generated', 'Customer demographics',\n",
       "       'Stock levels', 'Lead times', 'Order quantities', 'Shipping times',\n",
       "       'Shipping carriers', 'Shipping costs', 'Supplier name', 'Location',\n",
       "       'Lead time', 'Production volumes', 'Manufacturing lead time',\n",
       "       'Manufacturing costs', 'Inspection results', 'Defect rates',\n",
       "       'Transportation modes', 'Routes', 'Costs'],\n",
       "      dtype='object')"
      ]
     },
     "execution_count": 30,
     "metadata": {},
     "output_type": "execute_result"
    }
   ],
   "source": [
    "data.columns"
   ]
  },
  {
   "cell_type": "code",
   "execution_count": 34,
   "id": "3744d972",
   "metadata": {},
   "outputs": [
    {
     "name": "stdout",
     "output_type": "stream",
     "text": [
      "  Transportation modes  total_shipping_cost  avg_shipping_times  \\\n",
      "0                  Air           156.463824            5.115385   \n",
      "1                 Rail           153.134742            6.571429   \n",
      "2                 Road           160.721346            4.724138   \n",
      "3                  Sea            84.494995            7.117647   \n",
      "\n",
      "   total_revenue_generated  \n",
      "0            155735.349650  \n",
      "1            164990.417667  \n",
      "2            159315.232239  \n",
      "3             97563.819181  \n"
     ]
    }
   ],
   "source": [
    "transporting_data= data[['Shipping times' ,'Shipping costs', 'Transportation modes','Revenue generated']]\n",
    "transportation_summary= transporting_data.groupby('Transportation modes').agg(\n",
    "        total_shipping_cost=('Shipping costs', 'sum'),\n",
    "        avg_shipping_times=('Shipping times', 'mean'),\n",
    "    total_revenue_generated=('Revenue generated', 'sum')).reset_index()\n",
    "print (transportation_summary)"
   ]
  },
  {
   "cell_type": "code",
   "execution_count": 37,
   "id": "f8987f5a",
   "metadata": {},
   "outputs": [
    {
     "name": "stdout",
     "output_type": "stream",
     "text": [
      "  Transportation modes  total_shipping_cost  avg_shipping_times  \\\n",
      "0                  Air           156.463824            5.115385   \n",
      "1                 Rail           153.134742            6.571429   \n",
      "2                 Road           160.721346            4.724138   \n",
      "3                  Sea            84.494995            7.117647   \n",
      "\n",
      "   total_revenue_generated  cost_per_revenue  \n",
      "0            155735.349650          0.001005  \n",
      "1            164990.417667          0.000928  \n",
      "2            159315.232239          0.001009  \n",
      "3             97563.819181          0.000866  \n"
     ]
    }
   ],
   "source": [
    "transportation_summary['cost_per_revenue']= transportation_summary['total_shipping_cost']/transportation_summary['total_revenue_generated']\n",
    "print (transportation_summary)"
   ]
  },
  {
   "cell_type": "code",
   "execution_count": 41,
   "id": "f6ae0589",
   "metadata": {},
   "outputs": [
    {
     "data": {
      "image/png": "[encoded data removed]",
      "text/plain": [
       "<Figure size 1000x500 with 1 Axes>"
      ]
     },
     "metadata": {},
     "output_type": "display_data"
    }
   ],
   "source": [
    "plt.figure(figsize=(10,5))\n",
    "sns.barplot(data= transportation_summary,\n",
    "           x= 'Transportation modes',\n",
    "           y= 'total_revenue_generated',\n",
    "           palette= 'cool')\n",
    "plt.title('Transporation mode vs Revenue generated')\n",
    "plt.xlabel('Transportation modes')\n",
    "plt.ylabel('total_revenue_generated')\n",
    "plt.show()"
   ]
  },
  {
   "cell_type": "code",
   "execution_count": 47,
   "id": "44639946",
   "metadata": {},
   "outputs": [
    {
     "data": {
      "image/png": "[encoded data removed]",
      "text/plain": [
       "<Figure size 1000x500 with 1 Axes>"
      ]
     },
     "metadata": {},
     "output_type": "display_data"
    }
   ],
   "source": [
    "plt.figure(figsize=(10,5))\n",
    "sns.barplot(data= transportation_summary,\n",
    "           x= 'Transportation modes',\n",
    "            y= 'total_shipping_cost',\n",
    "           palette= 'cool')\n",
    "plt.title('shipping costs by Transportation modes')\n",
    "plt.xlabel('Transportation modes')\n",
    "plt.ylabel('Shipping Costs')\n",
    "plt.show()"
   ]
  },
  {
   "cell_type": "code",
   "execution_count": 50,
   "id": "9531bf00",
   "metadata": {},
   "outputs": [
    {
     "data": {
      "image/png": "[encoded data removed]",
      "text/plain": [
       "<Figure size 1000x500 with 1 Axes>"
      ]
     },
     "metadata": {},
     "output_type": "display_data"
    }
   ],
   "source": [
    "plt.figure(figsize=(10,5))\n",
    "sns.barplot(data= transportation_summary,\n",
    "           x= 'Transportation modes',\n",
    "            y= 'cost_per_revenue',\n",
    "           palette= 'cool')\n",
    "plt.title('cost_per_revenue  by Transportation modes')\n",
    "plt.xlabel('Transportation modes')\n",
    "plt.ylabel('cost_per_revenue')\n",
    "plt.show()"
   ]
  },
  {
   "cell_type": "code",
   "execution_count": 55,
   "id": "de3f90f9",
   "metadata": {},
   "outputs": [
    {
     "data": {
      "image/png": "[encoded data removed]",
      "text/plain": [
       "<Figure size 1000x500 with 1 Axes>"
      ]
     },
     "metadata": {},
     "output_type": "display_data"
    }
   ],
   "source": [
    "plt.figure(figsize=(10,5))\n",
    "sns.barplot(data= transportation_summary,\n",
    "           y= 'total_revenue_generated',\n",
    "            x= 'Transportation modes',\n",
    "            hue= 'cost_per_revenue',\n",
    "           palette= 'cool')\n",
    "plt.title('cost_per_revenue  by total_revenue_generated')\n",
    "plt.ylabel('total_revenue_generated')\n",
    "plt.xlabel('Transportation modes')\n",
    "plt.show()"
   ]
  },
  {
   "cell_type": "markdown",
   "id": "b19bc66b",
   "metadata": {},
   "source": [
    " ### Business Insight:\n",
    "\n",
    "Based on the data analysis, here are the key findings and business strategy recommendations:\n",
    "\n",
    "1. **Total Revenue Generated**:\n",
    "   - The **Rail** transportation mode generates the highest total revenue (**₹164,990.42**), followed by **Road** (**₹159,315.23**), **Air** (**₹155,735.35**), and **Sea** (**₹97,563.82**).\n",
    "   \n",
    "2. **Cost per Revenue**:\n",
    "   - **Road** is the most **cost-effective** mode, with the **lowest cost per revenue** ratio (**0.001009**), meaning it delivers the best revenue return for each unit of cost.\n",
    "   - **Sea** transportation, while generating the lowest total revenue, has the **best cost per revenue ratio** (**0.000866**), suggesting that it is the **most cost-efficient mode** relative to the revenue generated.\n",
    "\n",
    "3. **Shipping Times**:\n",
    "   - **Air** is the fastest mode, with an average shipping time of **5.12 days**, followed by **Road** (**4.72 days**), **Rail** (**6.57 days**), and **Sea** (**7.12 days**).\n",
    "   - Faster modes like **Air** and **Road** tend to be more expensive, while **Rail** and **Sea** are more cost-effective but slower.\n",
    "\n",
    "### Business Strategy Recommendations:\n",
    "\n",
    "1. **Optimize Rail for High Revenue Generation**:\n",
    "   - **Rail** transportation generates the highest revenue. The company should continue to use **Rail** for **medium-range shipments** and **bulk products**, as it contributes the most to overall revenue, despite its slightly longer shipping time compared to **Air** and **Road**.\n",
    "\n",
    "2. **Cost Efficiency with Road**:\n",
    "   - **Road** transportation has the **lowest cost per revenue** ratio, making it the most cost-efficient option. It also has an acceptable shipping time (**4.72 days**), making it an ideal mode for **regional deliveries** and **medium-distance** shipments. The company should focus on increasing the volume of products shipped via **Road**.\n",
    "\n",
    "3. **Air for High-Value, Time-Sensitive Shipments**:\n",
    "   - **Air** should be utilized for **premium or time-sensitive products** that require fast delivery (**5.12 days**), but the company needs to balance this with the higher **cost per revenue** ratio. It is suitable for products where customers are willing to pay a premium for faster delivery.\n",
    "\n",
    "4. **Consider Sea for Low-Cost, Long-Distance Shipments**:\n",
    "   - **Sea** has the lowest cost per revenue ratio but takes the longest (**7.12 days**). It is best used for **long-distance, non-urgent shipments** and for **bulk goods** where **cost-efficiency** is a priority over **speed**. The company can consider using **Sea** for less time-sensitive deliveries.\n",
    "\n",
    "### Conclusion:\n",
    "\n",
    "- The company should prioritize **Rail** for its highest revenue generation, while focusing on **Road** for **cost-effective** shipments with acceptable speed.\n",
    "- **Air** should be reserved for **premium products** that require faster shipping, even though it comes with a higher cost.\n",
    "- **Sea** should be used for **low-cost, long-distance shipments** where time is not a constraint.\n",
    "\n",
    "This strategy will optimize revenue while ensuring **cost-effectiveness** across different transportation modes."
   ]
  },
  {
   "cell_type": "markdown",
   "id": "612aa8bf",
   "metadata": {},
   "source": [
    "### Demand Forecasting"
   ]
  },
  {
   "cell_type": "code",
   "execution_count": 65,
   "id": "c140c917",
   "metadata": {},
   "outputs": [],
   "source": [
    "target = 'Number of products sold'\n",
    "features = ['Price', 'Availability', 'Stock levels', 'Lead times', 'Order quantities','Shipping times','Shipping costs',\n",
    "       'Lead time', 'Production volumes', 'Manufacturing lead time',\n",
    "       'Manufacturing costs', 'Defect rates','Costs']"
   ]
  },
  {
   "cell_type": "code",
   "execution_count": 66,
   "id": "b6b5b67e",
   "metadata": {},
   "outputs": [
    {
     "data": {
      "text/plain": [
       "Index(['Product type', 'SKU', 'Price', 'Availability',\n",
       "       'Number of products sold', 'Revenue generated', 'Customer demographics',\n",
       "       'Stock levels', 'Lead times', 'Order quantities', 'Shipping times',\n",
       "       'Shipping carriers', 'Shipping costs', 'Supplier name', 'Location',\n",
       "       'Lead time', 'Production volumes', 'Manufacturing lead time',\n",
       "       'Manufacturing costs', 'Inspection results', 'Defect rates',\n",
       "       'Transportation modes', 'Routes', 'Costs'],\n",
       "      dtype='object')"
      ]
     },
     "execution_count": 66,
     "metadata": {},
     "output_type": "execute_result"
    }
   ],
   "source": [
    "data.columns"
   ]
  },
  {
   "cell_type": "code",
   "execution_count": 67,
   "id": "958e7ec0",
   "metadata": {},
   "outputs": [
    {
     "data": {
      "text/html": [
       "<div>\n",
       "<style scoped>\n",
       "    .dataframe tbody tr th:only-of-type {\n",
       "        vertical-align: middle;\n",
       "    }\n",
       "\n",
       "    .dataframe tbody tr th {\n",
       "        vertical-align: top;\n",
       "    }\n",
       "\n",
       "    .dataframe thead th {\n",
       "        text-align: right;\n",
       "    }\n",
       "</style>\n",
       "<table border=\"1\" class=\"dataframe\">\n",
       "  <thead>\n",
       "    <tr style=\"text-align: right;\">\n",
       "      <th></th>\n",
       "      <th>Product type</th>\n",
       "      <th>SKU</th>\n",
       "      <th>Price</th>\n",
       "      <th>Availability</th>\n",
       "      <th>Number of products sold</th>\n",
       "      <th>Revenue generated</th>\n",
       "      <th>Customer demographics</th>\n",
       "      <th>Stock levels</th>\n",
       "      <th>Lead times</th>\n",
       "      <th>Order quantities</th>\n",
       "      <th>...</th>\n",
       "      <th>Location</th>\n",
       "      <th>Lead time</th>\n",
       "      <th>Production volumes</th>\n",
       "      <th>Manufacturing lead time</th>\n",
       "      <th>Manufacturing costs</th>\n",
       "      <th>Inspection results</th>\n",
       "      <th>Defect rates</th>\n",
       "      <th>Transportation modes</th>\n",
       "      <th>Routes</th>\n",
       "      <th>Costs</th>\n",
       "    </tr>\n",
       "  </thead>\n",
       "  <tbody>\n",
       "    <tr>\n",
       "      <th>0</th>\n",
       "      <td>haircare</td>\n",
       "      <td>SKU0</td>\n",
       "      <td>69.808006</td>\n",
       "      <td>55</td>\n",
       "      <td>802</td>\n",
       "      <td>8661.996792</td>\n",
       "      <td>Non-binary</td>\n",
       "      <td>58</td>\n",
       "      <td>7</td>\n",
       "      <td>96</td>\n",
       "      <td>...</td>\n",
       "      <td>Mumbai</td>\n",
       "      <td>29</td>\n",
       "      <td>215</td>\n",
       "      <td>29</td>\n",
       "      <td>46.279879</td>\n",
       "      <td>Pending</td>\n",
       "      <td>0.226410</td>\n",
       "      <td>Road</td>\n",
       "      <td>Route B</td>\n",
       "      <td>187.752075</td>\n",
       "    </tr>\n",
       "    <tr>\n",
       "      <th>1</th>\n",
       "      <td>skincare</td>\n",
       "      <td>SKU1</td>\n",
       "      <td>14.843523</td>\n",
       "      <td>95</td>\n",
       "      <td>736</td>\n",
       "      <td>7460.900065</td>\n",
       "      <td>Female</td>\n",
       "      <td>53</td>\n",
       "      <td>30</td>\n",
       "      <td>37</td>\n",
       "      <td>...</td>\n",
       "      <td>Mumbai</td>\n",
       "      <td>23</td>\n",
       "      <td>517</td>\n",
       "      <td>30</td>\n",
       "      <td>33.616769</td>\n",
       "      <td>Pending</td>\n",
       "      <td>4.854068</td>\n",
       "      <td>Road</td>\n",
       "      <td>Route B</td>\n",
       "      <td>503.065579</td>\n",
       "    </tr>\n",
       "    <tr>\n",
       "      <th>2</th>\n",
       "      <td>haircare</td>\n",
       "      <td>SKU2</td>\n",
       "      <td>11.319683</td>\n",
       "      <td>34</td>\n",
       "      <td>8</td>\n",
       "      <td>9577.749626</td>\n",
       "      <td>Unknown</td>\n",
       "      <td>1</td>\n",
       "      <td>10</td>\n",
       "      <td>88</td>\n",
       "      <td>...</td>\n",
       "      <td>Mumbai</td>\n",
       "      <td>12</td>\n",
       "      <td>971</td>\n",
       "      <td>27</td>\n",
       "      <td>30.688019</td>\n",
       "      <td>Pending</td>\n",
       "      <td>4.580593</td>\n",
       "      <td>Air</td>\n",
       "      <td>Route C</td>\n",
       "      <td>141.920282</td>\n",
       "    </tr>\n",
       "    <tr>\n",
       "      <th>3</th>\n",
       "      <td>skincare</td>\n",
       "      <td>SKU3</td>\n",
       "      <td>61.163343</td>\n",
       "      <td>68</td>\n",
       "      <td>83</td>\n",
       "      <td>7766.836426</td>\n",
       "      <td>Non-binary</td>\n",
       "      <td>23</td>\n",
       "      <td>13</td>\n",
       "      <td>59</td>\n",
       "      <td>...</td>\n",
       "      <td>Kolkata</td>\n",
       "      <td>24</td>\n",
       "      <td>937</td>\n",
       "      <td>18</td>\n",
       "      <td>35.624741</td>\n",
       "      <td>Fail</td>\n",
       "      <td>4.746649</td>\n",
       "      <td>Rail</td>\n",
       "      <td>Route A</td>\n",
       "      <td>254.776159</td>\n",
       "    </tr>\n",
       "    <tr>\n",
       "      <th>4</th>\n",
       "      <td>skincare</td>\n",
       "      <td>SKU4</td>\n",
       "      <td>4.805496</td>\n",
       "      <td>26</td>\n",
       "      <td>871</td>\n",
       "      <td>2686.505152</td>\n",
       "      <td>Non-binary</td>\n",
       "      <td>5</td>\n",
       "      <td>3</td>\n",
       "      <td>56</td>\n",
       "      <td>...</td>\n",
       "      <td>Delhi</td>\n",
       "      <td>5</td>\n",
       "      <td>414</td>\n",
       "      <td>3</td>\n",
       "      <td>92.065161</td>\n",
       "      <td>Fail</td>\n",
       "      <td>3.145580</td>\n",
       "      <td>Air</td>\n",
       "      <td>Route A</td>\n",
       "      <td>923.440632</td>\n",
       "    </tr>\n",
       "  </tbody>\n",
       "</table>\n",
       "<p>5 rows × 24 columns</p>\n",
       "</div>"
      ],
      "text/plain": [
       "  Product type   SKU      Price  Availability  Number of products sold  \\\n",
       "0     haircare  SKU0  69.808006            55                      802   \n",
       "1     skincare  SKU1  14.843523            95                      736   \n",
       "2     haircare  SKU2  11.319683            34                        8   \n",
       "3     skincare  SKU3  61.163343            68                       83   \n",
       "4     skincare  SKU4   4.805496            26                      871   \n",
       "\n",
       "   Revenue generated Customer demographics  Stock levels  Lead times  \\\n",
       "0        8661.996792            Non-binary            58           7   \n",
       "1        7460.900065                Female            53          30   \n",
       "2        9577.749626               Unknown             1          10   \n",
       "3        7766.836426            Non-binary            23          13   \n",
       "4        2686.505152            Non-binary             5           3   \n",
       "\n",
       "   Order quantities  ...  Location Lead time  Production volumes  \\\n",
       "0                96  ...    Mumbai        29                 215   \n",
       "1                37  ...    Mumbai        23                 517   \n",
       "2                88  ...    Mumbai        12                 971   \n",
       "3                59  ...   Kolkata        24                 937   \n",
       "4                56  ...     Delhi         5                 414   \n",
       "\n",
       "  Manufacturing lead time Manufacturing costs  Inspection results  \\\n",
       "0                      29           46.279879             Pending   \n",
       "1                      30           33.616769             Pending   \n",
       "2                      27           30.688019             Pending   \n",
       "3                      18           35.624741                Fail   \n",
       "4                       3           92.065161                Fail   \n",
       "\n",
       "   Defect rates  Transportation modes   Routes       Costs  \n",
       "0      0.226410                  Road  Route B  187.752075  \n",
       "1      4.854068                  Road  Route B  503.065579  \n",
       "2      4.580593                   Air  Route C  141.920282  \n",
       "3      4.746649                  Rail  Route A  254.776159  \n",
       "4      3.145580                   Air  Route A  923.440632  \n",
       "\n",
       "[5 rows x 24 columns]"
      ]
     },
     "execution_count": 67,
     "metadata": {},
     "output_type": "execute_result"
    }
   ],
   "source": [
    "data.head(5)"
   ]
  },
  {
   "cell_type": "code",
   "execution_count": 59,
   "id": "ff612a45",
   "metadata": {},
   "outputs": [
    {
     "data": {
      "text/plain": [
       "Product type                object\n",
       "SKU                         object\n",
       "Price                      float64\n",
       "Availability                 int64\n",
       "Number of products sold      int64\n",
       "Revenue generated          float64\n",
       "Customer demographics       object\n",
       "Stock levels                 int64\n",
       "Lead times                   int64\n",
       "Order quantities             int64\n",
       "Shipping times               int64\n",
       "Shipping carriers           object\n",
       "Shipping costs             float64\n",
       "Supplier name               object\n",
       "Location                    object\n",
       "Lead time                    int64\n",
       "Production volumes           int64\n",
       "Manufacturing lead time      int64\n",
       "Manufacturing costs        float64\n",
       "Inspection results          object\n",
       "Defect rates               float64\n",
       "Transportation modes        object\n",
       "Routes                      object\n",
       "Costs                      float64\n",
       "dtype: object"
      ]
     },
     "execution_count": 59,
     "metadata": {},
     "output_type": "execute_result"
    }
   ],
   "source": [
    "data.dtypes"
   ]
  },
  {
   "cell_type": "code",
   "execution_count": 64,
   "id": "20cd1cb4",
   "metadata": {},
   "outputs": [
    {
     "data": {
      "text/plain": [
       "0"
      ]
     },
     "execution_count": 64,
     "metadata": {},
     "output_type": "execute_result"
    }
   ],
   "source": [
    "data.duplicated().sum()"
   ]
  },
  {
   "cell_type": "code",
   "execution_count": 71,
   "id": "82133b4b",
   "metadata": {},
   "outputs": [
    {
     "name": "stdout",
     "output_type": "stream",
     "text": [
      "[534.56 410.42 430.43 518.32 492.14]\n"
     ]
    }
   ],
   "source": [
    "from sklearn.model_selection import train_test_split\n",
    "from sklearn.ensemble import RandomForestRegressor\n",
    "\n",
    "x= data[features]\n",
    "y= data[target]\n",
    "\n",
    "#spliting x and y into train and test data\n",
    "\n",
    "x_train, x_test, y_train, y_test= train_test_split(x,y, test_size = 0.2)\n",
    "model = RandomForestRegressor()\n",
    "model.fit(x_train,y_train)\n",
    "\n",
    "predictions= model.predict(x_test)\n",
    "print(predictions [:5])"
   ]
  },
  {
   "cell_type": "code",
   "execution_count": 72,
   "id": "e0fb2b1e",
   "metadata": {},
   "outputs": [
    {
     "name": "stdout",
     "output_type": "stream",
     "text": [
      "Mean Squared Error: 85783.916335\n",
      "R2 Score: -0.24212724975058686\n"
     ]
    }
   ],
   "source": [
    "from sklearn.metrics import mean_squared_error, r2_score\n",
    "\n",
    "mse = mean_squared_error(y_test, predictions)\n",
    "r2 = r2_score(y_test, predictions)\n",
    "\n",
    "print(f\"Mean Squared Error: {mse}\")\n",
    "print(f\"R2 Score: {r2}\")\n"
   ]
  },
  {
   "cell_type": "code",
   "execution_count": 73,
   "id": "12c37704",
   "metadata": {},
   "outputs": [
    {
     "name": "stdout",
     "output_type": "stream",
     "text": [
      "   Actual  Predicted\n",
      "0     276     534.56\n",
      "1     227     410.42\n",
      "2     457     430.43\n",
      "3      24     518.32\n",
      "4     320     492.14\n"
     ]
    }
   ],
   "source": [
    "comparison = pd.DataFrame({'Actual': y_test.values, 'Predicted': predictions})\n",
    "print(comparison.head())\n",
    "\n"
   ]
  },
  {
   "cell_type": "code",
   "execution_count": 99,
   "id": "dc1cee24",
   "metadata": {},
   "outputs": [
    {
     "name": "stdout",
     "output_type": "stream",
     "text": [
      "  Product type  Number of products sold  Stock levels\n",
      "0    cosmetics                    11757     58.653846\n",
      "1     haircare                    13611     48.352941\n",
      "2     skincare                    20731     40.200000\n"
     ]
    }
   ],
   "source": [
    "stock_turnover= data.groupby('Product type').agg({\n",
    "    'Number of products sold': 'sum',\n",
    "    'Stock levels': 'mean'}).reset_index()\n",
    "print (stock_turnover)\n"
   ]
  },
  {
   "cell_type": "code",
   "execution_count": 106,
   "id": "c699b43b",
   "metadata": {},
   "outputs": [
    {
     "name": "stdout",
     "output_type": "stream",
     "text": [
      "  Product type  Number of products sold  Stock levels  stock_turnover_rate\n",
      "0    cosmetics                    11757     58.653846           200.447213\n",
      "1     haircare                    13611     48.352941           281.492701\n",
      "2     skincare                    20731     40.200000           515.696517\n"
     ]
    }
   ],
   "source": [
    "stock_turnover['stock_turnover_rate'] = stock_turnover['Number of products sold']/stock_turnover['Stock levels']\n",
    "print (stock_turnover)"
   ]
  },
  {
   "cell_type": "raw",
   "id": "2c50d129",
   "metadata": {},
   "source": []
  },
  {
   "cell_type": "code",
   "execution_count": 105,
   "id": "93b7b2e6",
   "metadata": {},
   "outputs": [
    {
     "name": "stdout",
     "output_type": "stream",
     "text": [
      "  Product type  Number of products sold  Stock levels  stock_turnover_rate\n",
      "0    cosmetics                    11757     58.653846           200.447213\n",
      "1     haircare                    13611     48.352941           281.492701\n",
      "2     skincare                    20731     40.200000           515.696517\n"
     ]
    }
   ],
   "source": [
    "stock_turnover = stock_turnover.sort_values(by= 'stock_turnover_rate')\n",
    "print (stock_turnover)"
   ]
  },
  {
   "cell_type": "markdown",
   "id": "617798e7",
   "metadata": {},
   "source": [
    "### Analysis:  \n",
    "skincare products have highest stock turnover rate which means this is the highest/fastest selling product and stock replenishment should be planned in a way to avoid out of stock situations"
   ]
  },
  {
   "cell_type": "code",
   "execution_count": null,
   "id": "c999a6f7",
   "metadata": {},
   "outputs": [],
   "source": []
  }
 ],
 "metadata": {
  "kernelspec": {
   "display_name": "Python 3 (ipykernel)",
   "language": "python",
   "name": "python3"
  },
  "language_info": {
   "codemirror_mode": {
    "name": "ipython",
    "version": 3
   },
   "file_extension": ".py",
   "mimetype": "text/x-python",
   "name": "python",
   "nbconvert_exporter": "python",
   "pygments_lexer": "ipython3",
   "version": "3.11.5"
  }
 },
 "nbformat": 4,
 "nbformat_minor": 5
}
